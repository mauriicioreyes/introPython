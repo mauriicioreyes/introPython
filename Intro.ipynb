{
 "cells": [
  {
   "cell_type": "markdown",
   "metadata": {},
   "source": [
    "## Variables"
   ]
  },
  {
   "cell_type": "markdown",
   "metadata": {},
   "source": [
    "Las variables se definen:\n",
    "* tipo String /Implicito\n",
    "* valor\n",
    "* nombre 'msg'"
   ]
  },
  {
   "cell_type": "code",
   "execution_count": 60,
   "metadata": {},
   "outputs": [
    {
     "name": "stdout",
     "output_type": "stream",
     "text": [
      "Hola Explorers!\n"
     ]
    }
   ],
   "source": [
    "print(\"Hola Explorers!\")"
   ]
  },
  {
   "cell_type": "code",
   "execution_count": 61,
   "metadata": {},
   "outputs": [
    {
     "name": "stdout",
     "output_type": "stream",
     "text": [
      "Hola Explorers!\n"
     ]
    }
   ],
   "source": [
    "# Hola con una variable\n",
    "msg = \"Hola Explorers!\"\n",
    "print(msg)"
   ]
  },
  {
   "cell_type": "markdown",
   "metadata": {},
   "source": [
    "## Programando Hotcakes"
   ]
  },
  {
   "cell_type": "code",
   "execution_count": 62,
   "metadata": {},
   "outputs": [],
   "source": [
    "titulo = \"Programando hotcakes\"\n",
    "\n",
    "huevo = 3\n",
    "leche = 1.5\n",
    "mantequilla = 0.045\n",
    "harina = 3\n",
    "cditaVainilla = 0.015\n",
    "\n",
    "# Asignamos los espacios en la memoria del programa para nuestros ingredientes"
   ]
  },
  {
   "cell_type": "code",
   "execution_count": 63,
   "metadata": {},
   "outputs": [
    {
     "name": "stdout",
     "output_type": "stream",
     "text": [
      "1.5\n"
     ]
    }
   ],
   "source": [
    "print(leche)"
   ]
  },
  {
   "cell_type": "code",
   "execution_count": 64,
   "metadata": {},
   "outputs": [
    {
     "name": "stdout",
     "output_type": "stream",
     "text": [
      "Cantidad de leche: 1.5\n"
     ]
    }
   ],
   "source": [
    "print(\"Cantidad de leche: \" + str(leche))"
   ]
  },
  {
   "cell_type": "code",
   "execution_count": 65,
   "metadata": {},
   "outputs": [
    {
     "name": "stdout",
     "output_type": "stream",
     "text": [
      "Cantidad de leche: 1.5\n",
      "Cantidad de huevo: 3\n"
     ]
    }
   ],
   "source": [
    "print(\"Cantidad de leche: \" + str(leche) + \"\\nCantidad de huevo: \" + str(huevo))"
   ]
  },
  {
   "cell_type": "code",
   "execution_count": 66,
   "metadata": {},
   "outputs": [
    {
     "name": "stdout",
     "output_type": "stream",
     "text": [
      "7.56\n"
     ]
    }
   ],
   "source": [
    "# Mezclamos los ingredientes\n",
    "\n",
    "mezcla = huevo + leche + mantequilla + harina + cditaVainilla\n",
    "print(mezcla)"
   ]
  },
  {
   "cell_type": "code",
   "execution_count": 67,
   "metadata": {},
   "outputs": [
    {
     "name": "stdout",
     "output_type": "stream",
     "text": [
      "La cantidad de huevo es correcta\n"
     ]
    }
   ],
   "source": [
    "# Reglas - Condiciones\n",
    "\n",
    "# huevo = 3\n",
    "# leche = 1.5\n",
    "# mantequilla = 0.045\n",
    "# harina = 3\n",
    "# cditaVainilla = 0.015\n",
    "\n",
    "if (huevo == 3) :\n",
    "    print(\"La cantidad de huevo es correcta\")\n",
    "elif (leche == 1.5) :\n",
    "    print(\"La cantidad de leche es correcta\")\n",
    "elif (mantequilla == 0.045) :\n",
    "    print(\"La cantidad de mantequilla es correcta\")\n",
    "elif (harina == 3) :\n",
    "    print(\"La cantidad de harina es correcta\")\n",
    "else: \n",
    "    print(\"Revisa tus ingredientes\")\n",
    "\n"
   ]
  },
  {
   "cell_type": "code",
   "execution_count": 68,
   "metadata": {},
   "outputs": [
    {
     "name": "stdout",
     "output_type": "stream",
     "text": [
      "La mezcla alcanzo para 2.52 hotcakes por persona.\n"
     ]
    }
   ],
   "source": [
    "# Repartirlos\n",
    "\n",
    "porcion = mezcla / 3\n",
    "print(\"La mezcla alcanzo para \" + str(porcion) + \" hotcakes por persona.\" )"
   ]
  },
  {
   "cell_type": "markdown",
   "metadata": {},
   "source": [
    "## Cadenas\n",
    "Serie de caracteres entre comillas dobles \" \" o simples ' '"
   ]
  },
  {
   "cell_type": "code",
   "execution_count": 69,
   "metadata": {},
   "outputs": [
    {
     "name": "stdout",
     "output_type": "stream",
     "text": [
      "Ada Lovelace\n"
     ]
    }
   ],
   "source": [
    "# String\n",
    "name = 'Ada Lovelace'\n",
    "print(name.title())"
   ]
  },
  {
   "cell_type": "code",
   "execution_count": 70,
   "metadata": {},
   "outputs": [
    {
     "name": "stdout",
     "output_type": "stream",
     "text": [
      "ADA LOVELACE\n"
     ]
    }
   ],
   "source": [
    "print(name.upper())\n",
    "# Mayusculas"
   ]
  },
  {
   "cell_type": "code",
   "execution_count": 71,
   "metadata": {},
   "outputs": [
    {
     "name": "stdout",
     "output_type": "stream",
     "text": [
      "ada lovelace\n"
     ]
    }
   ],
   "source": [
    "print(name.lower())\n",
    "# Minúsculas"
   ]
  },
  {
   "cell_type": "code",
   "execution_count": 72,
   "metadata": {},
   "outputs": [
    {
     "name": "stdout",
     "output_type": "stream",
     "text": [
      "False\n",
      "Ada Lovelace\n"
     ]
    }
   ],
   "source": [
    "print(name.islower())\n",
    "print(name)"
   ]
  },
  {
   "cell_type": "code",
   "execution_count": 73,
   "metadata": {},
   "outputs": [
    {
     "name": "stdout",
     "output_type": "stream",
     "text": [
      "True\n",
      "ada lovelace\n"
     ]
    }
   ],
   "source": [
    "# Reasignación de variables\n",
    "name = name.lower()\n",
    "\n",
    "print(name.islower())\n",
    "print(name)"
   ]
  },
  {
   "cell_type": "code",
   "execution_count": 74,
   "metadata": {},
   "outputs": [
    {
     "name": "stdout",
     "output_type": "stream",
     "text": [
      "ada                   lovelace    \n"
     ]
    }
   ],
   "source": [
    "first_name = 'ada'\n",
    "last_name = '                  lovelace    '\n",
    "print(first_name + ' ' + last_name)"
   ]
  },
  {
   "cell_type": "code",
   "execution_count": 75,
   "metadata": {},
   "outputs": [
    {
     "name": "stdout",
     "output_type": "stream",
     "text": [
      "lovelace\n"
     ]
    }
   ],
   "source": [
    "last_name = last_name.strip()\n",
    "print(last_name)\n",
    "# Quitar todos los espacios"
   ]
  },
  {
   "cell_type": "code",
   "execution_count": 76,
   "metadata": {},
   "outputs": [
    {
     "name": "stdout",
     "output_type": "stream",
     "text": [
      "lovelace    \n"
     ]
    }
   ],
   "source": [
    "last_name = '                  lovelace    '\n",
    "last_name = last_name.lstrip()\n",
    "print(last_name)\n",
    "# Elimina espacios al inicio"
   ]
  },
  {
   "cell_type": "code",
   "execution_count": 77,
   "metadata": {},
   "outputs": [
    {
     "name": "stdout",
     "output_type": "stream",
     "text": [
      "lovelace\n"
     ]
    }
   ],
   "source": [
    "last_name = last_name.rstrip()\n",
    "print(last_name)\n",
    "# Eliminar espacios al final"
   ]
  },
  {
   "cell_type": "code",
   "execution_count": 78,
   "metadata": {},
   "outputs": [
    {
     "name": "stdout",
     "output_type": "stream",
     "text": [
      "Mauricio Reyes\n"
     ]
    }
   ],
   "source": [
    "# Usando variables en cadenas\n",
    "\n",
    "nombre = 'Mauricio'\n",
    "apellido = 'Reyes'\n",
    "nombre_completo = f'{nombre} {apellido}'\n",
    "print(nombre_completo)"
   ]
  },
  {
   "cell_type": "markdown",
   "metadata": {},
   "source": [
    "## Listas\n",
    "Almacena una serie de elementos"
   ]
  },
  {
   "cell_type": "code",
   "execution_count": 79,
   "metadata": {},
   "outputs": [],
   "source": [
    "ingredientes = ['huevo', 'harina', 'leche'] "
   ]
  },
  {
   "cell_type": "code",
   "execution_count": 80,
   "metadata": {},
   "outputs": [
    {
     "data": {
      "text/plain": [
       "'huevo'"
      ]
     },
     "execution_count": 80,
     "metadata": {},
     "output_type": "execute_result"
    }
   ],
   "source": [
    "# Primer elemento\n",
    "ingredientes[0]"
   ]
  },
  {
   "cell_type": "code",
   "execution_count": 81,
   "metadata": {},
   "outputs": [
    {
     "data": {
      "text/plain": [
       "'leche'"
      ]
     },
     "execution_count": 81,
     "metadata": {},
     "output_type": "execute_result"
    }
   ],
   "source": [
    "# Último elemento\n",
    "ingredientes[-1]"
   ]
  },
  {
   "cell_type": "code",
   "execution_count": 82,
   "metadata": {},
   "outputs": [
    {
     "name": "stdout",
     "output_type": "stream",
     "text": [
      "['huevo', 'harina', 'leche', 'mantequilla']\n"
     ]
    }
   ],
   "source": [
    "# Append()\n",
    "ingredientes.append('mantequilla')\n",
    "print(ingredientes)"
   ]
  },
  {
   "cell_type": "code",
   "execution_count": 83,
   "metadata": {},
   "outputs": [
    {
     "name": "stdout",
     "output_type": "stream",
     "text": [
      "['huevo', 'harina', 'vainilla', 'leche', 'mantequilla']\n"
     ]
    }
   ],
   "source": [
    "# Insert\n",
    "ingredientes.insert(2, 'vainilla')\n",
    "print(ingredientes)"
   ]
  },
  {
   "cell_type": "code",
   "execution_count": 84,
   "metadata": {},
   "outputs": [
    {
     "name": "stdout",
     "output_type": "stream",
     "text": [
      "['huevo', 'harina', 'leche', 'mantequilla']\n",
      "['huevo', 'harina', 'leche']\n"
     ]
    }
   ],
   "source": [
    "# Pop\n",
    "ingredientes.pop(2)\n",
    "print(ingredientes)\n",
    "ingredientes.pop()\n",
    "print(ingredientes)"
   ]
  },
  {
   "cell_type": "code",
   "execution_count": 85,
   "metadata": {},
   "outputs": [
    {
     "name": "stdout",
     "output_type": "stream",
     "text": [
      "['huevo', 'leche']\n"
     ]
    }
   ],
   "source": [
    "# Remove\n",
    "ingredientes.remove('harina')\n",
    "print(ingredientes)"
   ]
  },
  {
   "cell_type": "code",
   "execution_count": 86,
   "metadata": {},
   "outputs": [
    {
     "name": "stdout",
     "output_type": "stream",
     "text": [
      "['huevo', 'leche']\n"
     ]
    }
   ],
   "source": [
    "# Sort A-Z\n",
    "ingredientes.sort()\n",
    "print(ingredientes)"
   ]
  },
  {
   "cell_type": "code",
   "execution_count": 87,
   "metadata": {},
   "outputs": [
    {
     "name": "stdout",
     "output_type": "stream",
     "text": [
      "['leche', 'huevo']\n"
     ]
    }
   ],
   "source": [
    "# Reverse Z-A\n",
    "ingredientes.reverse()\n",
    "print(ingredientes)"
   ]
  },
  {
   "cell_type": "code",
   "execution_count": 88,
   "metadata": {},
   "outputs": [
    {
     "data": {
      "text/plain": [
       "2"
      ]
     },
     "execution_count": 88,
     "metadata": {},
     "output_type": "execute_result"
    }
   ],
   "source": [
    "# Longitud\n",
    "len(ingredientes)"
   ]
  },
  {
   "cell_type": "code",
   "execution_count": 89,
   "metadata": {},
   "outputs": [
    {
     "name": "stdout",
     "output_type": "stream",
     "text": [
      "huevo\n"
     ]
    }
   ],
   "source": [
    "print(ingredientes[-1])"
   ]
  },
  {
   "cell_type": "code",
   "execution_count": 90,
   "metadata": {},
   "outputs": [
    {
     "name": "stdout",
     "output_type": "stream",
     "text": [
      "['leche', 'huevo']\n"
     ]
    }
   ],
   "source": [
    "# Slicing\n",
    "primeros_dos = ingredientes[:2]\n",
    "print(primeros_dos)"
   ]
  },
  {
   "cell_type": "code",
   "execution_count": 92,
   "metadata": {},
   "outputs": [
    {
     "name": "stdout",
     "output_type": "stream",
     "text": [
      "['leche', 'huevo']\n",
      "['leche', 'huevo']\n"
     ]
    }
   ],
   "source": [
    "# Copiar lista\n",
    "copy_list= ingredientes[:]\n",
    "print(ingredientes)\n",
    "print(copy_list)"
   ]
  },
  {
   "cell_type": "markdown",
   "metadata": {},
   "source": [
    "## Tuplas\n",
    "Las tuplas son similares a las listas, pero los elementos de una tupla no se pueden modificar."
   ]
  },
  {
   "cell_type": "code",
   "execution_count": 94,
   "metadata": {},
   "outputs": [
    {
     "name": "stdout",
     "output_type": "stream",
     "text": [
      "1080\n",
      "720\n"
     ]
    }
   ],
   "source": [
    "dimensiones = (1080, 720)\n",
    "print(dimensiones[0])\n",
    "print(dimensiones[1])"
   ]
  },
  {
   "cell_type": "code",
   "execution_count": 95,
   "metadata": {},
   "outputs": [
    {
     "ename": "TypeError",
     "evalue": "'tuple' object does not support item assignment",
     "output_type": "error",
     "traceback": [
      "\u001b[1;31m---------------------------------------------------------------------------\u001b[0m",
      "\u001b[1;31mTypeError\u001b[0m                                 Traceback (most recent call last)",
      "\u001b[1;32md:\\MARE\\Escritorio\\LaunchX\\Intro.ipynb Cell 40'\u001b[0m in \u001b[0;36m<module>\u001b[1;34m\u001b[0m\n\u001b[1;32m----> <a href='vscode-notebook-cell:/d%3A/MARE/Escritorio/LaunchX/Intro.ipynb#ch0000039?line=0'>1</a>\u001b[0m dimensiones[\u001b[39m1\u001b[39m] \u001b[39m=\u001b[39m \u001b[39m1080\u001b[39m\n",
      "\u001b[1;31mTypeError\u001b[0m: 'tuple' object does not support item assignment"
     ]
    }
   ],
   "source": [
    "dimensiones[1] = 1080"
   ]
  },
  {
   "cell_type": "code",
   "execution_count": 96,
   "metadata": {},
   "outputs": [
    {
     "name": "stdout",
     "output_type": "stream",
     "text": [
      "Dimensiones originales\n",
      "1080\n",
      "720\n"
     ]
    }
   ],
   "source": [
    "print('Dimensiones originales')\n",
    "for dim in dimensiones:\n",
    "    print(dim)"
   ]
  },
  {
   "cell_type": "code",
   "execution_count": 97,
   "metadata": {},
   "outputs": [
    {
     "name": "stdout",
     "output_type": "stream",
     "text": [
      "(1080, 1080)\n"
     ]
    }
   ],
   "source": [
    "dimensiones = (1080, 1080)\n",
    "print(dimensiones)"
   ]
  },
  {
   "cell_type": "code",
   "execution_count": 99,
   "metadata": {},
   "outputs": [
    {
     "name": "stdout",
     "output_type": "stream",
     "text": [
      "1080\n",
      "1080\n"
     ]
    }
   ],
   "source": [
    "for d in dimensiones:\n",
    "    print(d)"
   ]
  },
  {
   "cell_type": "code",
   "execution_count": 102,
   "metadata": {},
   "outputs": [
    {
     "name": "stdout",
     "output_type": "stream",
     "text": [
      "Añadiendo ingrediente a la orden: chocolate\n",
      "Añadiendo ingrediente a la orden: chispas\n",
      "Añadiendo ingrediente a la orden: lunetas\n",
      "Añadiendo ingrediente a la orden: durazno\n",
      "\n",
      "¡Tu cupcake está listo!\n"
     ]
    }
   ],
   "source": [
    "# Cupcake decoración\n",
    "\n",
    "req_cliente = ['chocolate', 'chispas', 'lunetas', 'durazno']\n",
    "\n",
    "for ing_extra in req_cliente:\n",
    "    print(f'Añadiendo ingrediente a la orden: {ing_extra}')\n",
    "\n",
    "print('\\n¡Tu cupcake está listo!')\n",
    "\n"
   ]
  },
  {
   "cell_type": "code",
   "execution_count": 104,
   "metadata": {},
   "outputs": [
    {
     "name": "stdout",
     "output_type": "stream",
     "text": [
      "Añadiendo ingrediente a la orden: chocolate\n",
      "Añadiendo ingrediente a la orden: chispas\n",
      "Error, ingrediente no disponible: lunetas\n",
      "Añadiendo ingrediente a la orden: durazno\n",
      "\n",
      "¡Tu cupcake está listo!\n"
     ]
    }
   ],
   "source": [
    "# No hay un ingrediente disponible\n",
    "\n",
    "req_cliente = ['chocolate', 'chispas', 'lunetas', 'durazno']\n",
    "\n",
    "for extra in req_cliente:\n",
    "    if extra == 'lunetas':\n",
    "        print(f'Error, ingrediente no disponible: {extra}')\n",
    "    else:\n",
    "        print(f'Añadiendo ingrediente a la orden: {extra}')\n",
    "print('\\n¡Tu cupcake está listo!')"
   ]
  },
  {
   "cell_type": "code",
   "execution_count": 105,
   "metadata": {},
   "outputs": [
    {
     "name": "stdout",
     "output_type": "stream",
     "text": [
      "Añadiendo ingrediente a la orden: chocolate\n",
      "Añadiendo ingrediente a la orden: chispas\n",
      "Error, ingrediente no disponible: lunetas\n",
      "Error, ingrediente no disponible: durazno\n",
      "\n",
      "¡Tu cupcake está listo!\n"
     ]
    }
   ],
   "source": [
    "# ¿Qué ingredientes están disponibles?, ¿cuáles no?\n",
    "\n",
    "extras_disponibles = ['chocolate', 'chispas', 'arándanos', 'cereza', 'zanahoria', 'pasas', 'nuez', 'canela' ]\n",
    "req_cliente = ['chocolate', 'chispas', 'lunetas', 'durazno']\n",
    "\n",
    "for extra in req_cliente:\n",
    "    if extra in extras_disponibles:\n",
    "        print(f'Añadiendo ingrediente a la orden: {extra}')\n",
    "    else:\n",
    "        print(f'Error, ingrediente no disponible: {extra}')\n",
    "print('\\n¡Tu cupcake está listo!')"
   ]
  }
 ],
 "metadata": {
  "interpreter": {
   "hash": "cd71c9e9e296960300cd6209c2e29aa83d05635c16931b7ada959bae1fc1a84f"
  },
  "kernelspec": {
   "display_name": "Python 3.10.2 64-bit",
   "language": "python",
   "name": "python3"
  },
  "language_info": {
   "codemirror_mode": {
    "name": "ipython",
    "version": 3
   },
   "file_extension": ".py",
   "mimetype": "text/x-python",
   "name": "python",
   "nbconvert_exporter": "python",
   "pygments_lexer": "ipython3",
   "version": "3.10.2"
  },
  "orig_nbformat": 4
 },
 "nbformat": 4,
 "nbformat_minor": 2
}
